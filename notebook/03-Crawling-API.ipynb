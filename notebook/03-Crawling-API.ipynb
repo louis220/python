{
 "cells": [
  {
   "cell_type": "code",
   "execution_count": 11,
   "metadata": {},
   "outputs": [
    {
     "name": "stdout",
     "output_type": "stream",
     "text": [
      "search url: https://openapi.naver.com/v1/search/news.json?query=%EC%A7%80%EC%86%8C%EB%AF%B8%EC%95%84\n",
      "요청 상태값: 200\n"
     ]
    }
   ],
   "source": [
    "# client id: 01N7UOlHHLXFqqeT6KWg\n",
    "# client secret: 8WOwkxgeqe\n",
    "\n",
    "client_id = \"01N7UOlHHLXFqqeT6KWg\"\n",
    "client_secret = \"8WOwkxgeqe\"\n",
    "\n",
    "# API 호출을 위해서는 요청 헤더를 제어해야 한다\n",
    "# 단순 urlopen 만으로는 안될 것이다\n",
    "import urllib.request \n",
    "\n",
    "# 전송할 query 파라미터 생성\n",
    "enc_text = urllib.parse.quote(\"지소미아\") #URL 인코딩 문자열 생성\n",
    "url = \"https://openapi.naver.com/v1/search/news.json?query={}\".format(enc_text)\n",
    "print(\"search url:\", url)\n",
    "\n",
    "# header에 인증값을 실어 보내기 위해 요청객체를 직접 조작\n",
    "req = urllib.request.Request(url)\n",
    "#API 인증 정보를 헤더에 설정 ->API 제공사마다 다름(메뉴얼 확인)\n",
    "req.add_header(\"X-Naver-Client-id\", client_id)\n",
    "req.add_header(\"X-Naver-Client-Secret\", client_secret)\n",
    "# 요청의 확인\n",
    "resp = urllib.request.urlopen(req)\n",
    "print(\"요청 상태값:\", resp.getcode())\n",
    "\n",
    "resp_body = resp.read().decode(\"utf-8\")\n",
    "# print(\"응답:\",resp_body)\n",
    "\n"
   ]
  },
  {
   "cell_type": "code",
   "execution_count": 10,
   "metadata": {},
   "outputs": [
    {
     "name": "stdout",
     "output_type": "stream",
     "text": [
      "title: 대진연, 이번엔 '촛불 하나' 조직 결성...\"윤석열 사퇴, 검찰개혁\" 주장 @Fri, 22 Nov 2019 14:18:00 +0900\n",
      "title: 황교안 \"단식이란 현실이 서글퍼…죽기 각오\"…김세연 방문(종합) @Fri, 22 Nov 2019 14:17:00 +0900\n",
      "title: 황교안, 오늘 청와대 앞서 철야농성… 긴급간담회 대비 @Fri, 22 Nov 2019 14:16:00 +0900\n",
      "title: 이해찬 \"지소미아 종료 책임 '일본'…필수불가결한 것 아냐\" @Fri, 22 Nov 2019 14:16:00 +0900\n",
      "title: [속보] 문 대통령, NSC 소집해 지소미아 관련 논의 중 @Fri, 22 Nov 2019 14:15:00 +0900\n",
      "title: 일본 요구로 체결 후 3년 만에 종료, '지소미아' 팩트는? @Fri, 22 Nov 2019 14:14:00 +0900\n",
      "title: 'GSOMIA 완전종료!' @Fri, 22 Nov 2019 14:14:00 +0900\n",
      "title: 문재인 대통령, '반도체 강국 대한민국...아무도 흔들도 없다' @Fri, 22 Nov 2019 14:14:00 +0900\n",
      "title: '지소미아 완전종료! 미국은 간섭말라!' @Fri, 22 Nov 2019 14:14:00 +0900\n",
      "title: 'GSOMIA 완전종료' 외치는 아베규탄시민행동 @Fri, 22 Nov 2019 14:14:00 +0900\n"
     ]
    }
   ],
   "source": [
    "\n",
    "# 응답으로 받은 json을 python 객체로 변환\n",
    "import json\n",
    "\n",
    "pyobj = json.loads(resp_body)\n",
    "# print(\"news list:\", pyobj['items'])\n",
    "news_list = pyobj['items']\n",
    "\n",
    "import html, re\n",
    "\n",
    "def remove_tag(html):\n",
    "    tag_re = re.compile(r\"<[^>]+>\") # 태그 검색 패턴\n",
    "    return tag_re.sub('', html)\n",
    "# 뉴스를 출력\n",
    "for news in news_list:\n",
    "    # escape 문자 제거\n",
    "    news['title'] = remove_tag(html.unescape(news['title']))\n",
    "    print(\"title: {} @{}\".format(news['title'], news['pubDate']))\n"
   ]
  }
 ],
 "metadata": {
  "kernelspec": {
   "display_name": "Python 3",
   "language": "python",
   "name": "python3"
  },
  "language_info": {
   "codemirror_mode": {
    "name": "ipython",
    "version": 3
   },
   "file_extension": ".py",
   "mimetype": "text/x-python",
   "name": "python",
   "nbconvert_exporter": "python",
   "pygments_lexer": "ipython3",
   "version": "3.7.4"
  }
 },
 "nbformat": 4,
 "nbformat_minor": 2
}
