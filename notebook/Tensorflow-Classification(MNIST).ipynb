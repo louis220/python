{
 "cells": [
  {
   "cell_type": "code",
   "execution_count": 5,
   "metadata": {},
   "outputs": [
    {
     "name": "stdout",
     "output_type": "stream",
     "text": [
      "Extracting ./mnist/data\\train-images-idx3-ubyte.gz\n",
      "Extracting ./mnist/data\\train-labels-idx1-ubyte.gz\n",
      "Extracting ./mnist/data\\t10k-images-idx3-ubyte.gz\n",
      "Extracting ./mnist/data\\t10k-labels-idx1-ubyte.gz\n"
     ]
    }
   ],
   "source": [
    "import tensorflow as tf\n",
    "# mnist 데이터를 확보\n",
    "from tensorflow.examples.tutorials.mnist import input_data\n",
    "mnist = input_data.read_data_sets(\"./mnist/data\", one_hot=True)"
   ]
  },
  {
   "cell_type": "code",
   "execution_count": 7,
   "metadata": {},
   "outputs": [
    {
     "name": "stdout",
     "output_type": "stream",
     "text": [
      "학습 데이터: 55000\n",
      "테스트 데이터: 10000\n"
     ]
    }
   ],
   "source": [
    "# 데이터의 갯수 확인\n",
    "print(\"학습 데이터:\", mnist.train.num_examples)\n",
    "print(\"테스트 데이터:\", mnist.test.num_examples)"
   ]
  },
  {
   "cell_type": "code",
   "execution_count": 19,
   "metadata": {},
   "outputs": [
    {
     "name": "stdout",
     "output_type": "stream",
     "text": [
      "Training Image Size: (784,)\n",
      "Label: [0. 0. 0. 1. 0. 0. 0. 0. 0. 0.]\n",
      "실제 라벨(Not One Hotcoding): 3\n"
     ]
    },
    {
     "data": {
      "image/png": "[encoded data removed]",
      "text/plain": [
       "<Figure size 432x288 with 1 Axes>"
      ]
     },
     "metadata": {
      "needs_background": "light"
     },
     "output_type": "display_data"
    }
   ],
   "source": [
    "%matplotlib inline\n",
    "# 데이터 살펴봅시다\n",
    "import matplotlib.pyplot as plt\n",
    "import numpy as np\n",
    "\n",
    "# mnist 안쪽에 어떤 내용이 들어 있는지 확인\n",
    "# print(help(mnist))\n",
    "# 학습을 위한 이미지 데이터를 확인\n",
    "index = 11\n",
    "# 학습 이미지 사이즈 확인\n",
    "print(\"Training Image Size:\", mnist.train.images[index].shape)\n",
    "# 784 = 28 * 28 픽셀의 이미지\n",
    "# 학습 라벨 데이터 확인\n",
    "print(\"Label:\", mnist.train.labels[index])\n",
    "# print(\"Image Data:\\n\", mnist.train.images[index].reshape(28, 28))\n",
    "plt.imshow(mnist.train.images[index].reshape(28, 28))\n",
    "print(\"실제 라벨(Not One Hotcoding):\", np.argmax(mnist.train.labels[index]))\n",
    "plt.show()"
   ]
  },
  {
   "cell_type": "code",
   "execution_count": 26,
   "metadata": {},
   "outputs": [],
   "source": [
    "# 신경망 구성\n",
    "tf.reset_default_graph()\n",
    "# 입력층과 출력층 선언\n",
    "x = tf.placeholder(tf.float32, [None, 784], name = \"Input\")\n",
    "# 28*28 -> 학습 데이터의 각 픽셀을 feature로 삼는다\n",
    "Y = tf.placeholder(tf.float32, [None, 10], name=\"Output\")\n",
    "# 최종 출력 0 ~ 9 총 10개의 결과로 분류하기 위한 노드\n",
    "\n",
    "# 입력층 784개의 Feature -> 첫번째 은닉층 256개로 전달하기 위한 가중치\n",
    "W1 = tf.Variable(tf.random_normal([784, 256], stddev=0.01), name=\"Weight1\")\n",
    "L1 = tf.nn.relu(tf.matmul(x, W1), name = \"Activation1\")\n",
    "# L1 -> 입력 Fearure * 가중치 -> 활성화함수(relu)\n",
    "\n",
    "# 첫번째 은닉층 256 -> 두번째 은닉층 256 가중치\n",
    "W2 = tf.Variable(tf.random_normal([256, 256], stddev=0.01), name=\"Weight2\")\n",
    "L2 = tf.nn.relu(tf.matmul(L1, W2), name = \"Activation2\")\n",
    "# 두 번째 은닉층 256 -> 출력층 10 가중치\n",
    "W3 = tf.Variable(tf.random_normal([256, 10], stddev = 0.01), name=\"Weight3\")\n",
    "model = tf.matmul(L2, W3, name=\"model\") # 모델의 생성"
   ]
  },
  {
   "cell_type": "code",
   "execution_count": 32,
   "metadata": {},
   "outputs": [],
   "source": [
    "# cross entropy softmax 이용, 개별 이미지에 대한 손실값 계산\n",
    "cost = tf.nn.softmax_cross_entropy_with_logits_v2(\n",
    "    logits=model, labels=Y, name =\"CrossEntropy\"\n",
    ")\n",
    "# 전체 평균 손실값 구하기\n",
    "cost = tf.reduce_mean(cost, name = \"CostFunction\")\n",
    "# 최적화 수행을 위한 옵티마이저 선택\n",
    "optimizer = tf.train.GradientDescentOptimizer(learning_rate=0.1).minimize(cost)\n",
    "# 변수 초기화를 위한 연산자\n",
    "init = tf.global_variables_initializer()"
   ]
  },
  {
   "cell_type": "code",
   "execution_count": 42,
   "metadata": {},
   "outputs": [
    {
     "name": "stdout",
     "output_type": "stream",
     "text": [
      "Epoch: 1, 평균 Xost: 1.3764471940018914\n",
      "Epoch: 2, 평균 Xost: 0.37079100088639694\n",
      "Epoch: 3, 평균 Xost: 0.24587923418391835\n",
      "Epoch: 4, 평균 Xost: 0.17583383154462684\n",
      "Epoch: 5, 평균 Xost: 0.13965175552462988\n",
      "Epoch: 6, 평균 Xost: 0.11388288726522164\n",
      "Epoch: 7, 평균 Xost: 0.09766387244347821\n",
      "Epoch: 8, 평균 Xost: 0.08124939138747074\n",
      "Epoch: 9, 평균 Xost: 0.07292324572970921\n",
      "Epoch: 10, 평균 Xost: 0.06366644855250012\n",
      "Epoch: 11, 평균 Xost: 0.05598077710548585\n",
      "Epoch: 12, 평균 Xost: 0.04635196953503923\n",
      "Epoch: 13, 평균 Xost: 0.04232699485072358\n",
      "Epoch: 14, 평균 Xost: 0.038214979642917486\n",
      "Epoch: 15, 평균 Xost: 0.032462516009214924\n",
      "Epoch: 16, 평균 Xost: 0.02923585683996366\n",
      "Epoch: 17, 평균 Xost: 0.024999998075972227\n",
      "Epoch: 18, 평균 Xost: 0.023149313731542366\n",
      "Epoch: 19, 평균 Xost: 0.01882894361053001\n",
      "Epoch: 20, 평균 Xost: 0.016957465201743287\n",
      "Epoch: 21, 평균 Xost: 0.014954721992412073\n",
      "Epoch: 22, 평균 Xost: 0.012898529388687827\n",
      "Epoch: 23, 평균 Xost: 0.011227878144391898\n",
      "Epoch: 24, 평균 Xost: 0.009616735683944585\n",
      "Epoch: 25, 평균 Xost: 0.008696888253643092\n",
      "Epoch: 26, 평균 Xost: 0.00787017186098224\n",
      "Epoch: 27, 평균 Xost: 0.006658168960235674\n",
      "Epoch: 28, 평균 Xost: 0.005648686031874439\n",
      "Epoch: 29, 평균 Xost: 0.00503156246194108\n",
      "Epoch: 30, 평균 Xost: 0.0042540057198229165\n",
      "최적화 완료!\n",
      "정확도: 0.9802\n"
     ]
    }
   ],
   "source": [
    "# 실제 연산의 수행 : Session 이용\n",
    "sess = tf.Session()\n",
    "# Graph Writer\n",
    "tf.summary.FileWriter(\"d:/log_dir/mnist\", graph=sess.graph)\n",
    "# 변수 초기화\n",
    "sess.run(init)\n",
    "\n",
    "# 전체 학습 데이터를 나눠서 학습 : Mini Batch\n",
    "batch_size = 100\n",
    "total_batch = int(mnist.train.num_examples / batch_size)\n",
    "\n",
    "# 실제 학습 수행\n",
    "for epoch in range(30): # 30회 학습을 수행\n",
    "    # 1 epoch : 전체 학습 데이터를 1회 학습한 것\n",
    "    total_cost = 0\n",
    "    \n",
    "    # 미니 패치 방식으로 전체 데이터를 학습\n",
    "    for i in range(total_batch):\n",
    "        # batch_size 만큼 나누어서 학습\n",
    "        batch_xs, batch_ys = mnist.train.next_batch(batch_size)\n",
    "        \n",
    "        _, cost_val = sess.run([optimizer, cost], feed_dict={ x:batch_xs, Y:batch_ys})\n",
    "        total_cost += cost_val # 총 손실 값을 ?\n",
    "        # 전체 데이터를 1회 학습 -> 1 Epoch\n",
    "    print(\"Epoch: {}, 평균 Xost: {}\".format(epoch + 1, total_cost / total_batch))\n",
    "    \n",
    "print(\"최적화 완료!\")\n",
    "\n",
    "# 테스트 데이터를 모델에 입력하여 실제 결과와 비교해서 평균 -> 정확도\n",
    "is_correct = tf.equal(tf.argmax(model, 1), tf.argmax(Y, 1))\n",
    "accuracy = tf.reduce_mean(tf.cast(is_correct, tf.float32))\n",
    "\n",
    "print(\"정확도:\", sess.run(accuracy, feed_dict={ x :mnist.test.images, Y:mnist.test.labels}))\n",
    "# sess.close()\n",
    "        "
   ]
  },
  {
   "cell_type": "code",
   "execution_count": 45,
   "metadata": {},
   "outputs": [
    {
     "name": "stdout",
     "output_type": "stream",
     "text": [
      "최종 가중치: [[-9.3756738e-04 -2.5286814e-02 -1.4550312e-02 ... -9.0659102e-03\n",
      "  -8.8167116e-03 -5.6573716e-03]\n",
      " [-5.5156839e-03 -1.0102324e-03  9.5587558e-05 ... -9.8891454e-03\n",
      "   8.3772826e-04 -3.1347375e-03]\n",
      " [ 5.8929292e-03  1.6679300e-02 -1.0839881e-02 ... -1.4164657e-02\n",
      "   2.1900085e-03 -1.0067101e-02]\n",
      " ...\n",
      " [-1.5073970e-02 -1.1282928e-04  3.0917434e-03 ...  7.1124970e-03\n",
      "  -7.6337997e-03 -5.0814436e-03]\n",
      " [ 1.3931319e-03 -1.1662540e-02  4.7434529e-04 ... -5.6195874e-03\n",
      "   1.7924381e-02 -1.8507791e-04]\n",
      " [-6.2814576e-04 -4.1448823e-03 -7.5106686e-03 ... -1.0710584e-02\n",
      "   2.8465553e-03  8.2601449e-03]]\n",
      "최종 가중치2 : [[ 0.04759099  0.01842112 -0.00013523 ... -0.00489517  0.0197764\n",
      "   0.01054572]\n",
      " [-0.01853652  0.07074273 -0.04166685 ...  0.12472002  0.00778359\n",
      "   0.07988806]\n",
      " [-0.04019354 -0.04923875  0.04719345 ...  0.03113669 -0.0019767\n",
      "  -0.03466527]\n",
      " ...\n",
      " [ 0.01369947 -0.01595862  0.05762906 ... -0.05631676 -0.00991587\n",
      "  -0.01463593]\n",
      " [-0.06953728 -0.01068948  0.0364682  ...  0.02149746 -0.05150199\n",
      "  -0.030036  ]\n",
      " [ 0.0658434   0.06308697  0.0231852  ...  0.09796508  0.04636247\n",
      "   0.08100907]]\n",
      "최종 가중치3: [[-0.22932991 -0.01780255 -0.14451627 ... -0.25099498  0.25004646\n",
      "   0.0967211 ]\n",
      " [-0.13877457  0.02627541  0.03580667 ... -0.14328268  0.36356136\n",
      "   0.02709416]\n",
      " [ 0.04186388  0.00620047  0.05923903 ...  0.16419294 -0.4013366\n",
      "  -0.02884278]\n",
      " ...\n",
      " [-0.35244873  0.38017154  0.19136168 ...  0.05429482  0.00955313\n",
      "   0.3348423 ]\n",
      " [ 0.04154113 -0.01119638  0.20446315 ... -0.10291338  0.15337752\n",
      "   0.16098188]\n",
      " [-0.00549752  0.018112    0.29529107 ... -0.13294809  0.29910782\n",
      "   0.12398689]]\n"
     ]
    }
   ],
   "source": [
    "print(\"최종 가중치:\", sess.run(W1))\n",
    "print(\"최종 가중치2 :\", sess.run(W2))\n",
    "print(\"최종 가중치3:\", sess.run(W3))"
   ]
  },
  {
   "cell_type": "code",
   "execution_count": 54,
   "metadata": {},
   "outputs": [
    {
     "data": {
      "image/png": "[encoded data removed]",
      "text/plain": [
       "<Figure size 432x288 with 10 Axes>"
      ]
     },
     "metadata": {},
     "output_type": "display_data"
    }
   ],
   "source": [
    "# 총 10개의 test 데이터를 확인해보고(model로)\n",
    "# test 라벨과 매칭(확인)해 봅시다.\n",
    "lables = sess.run(model, feed_dict={ x:mnist.test.images, Y:mnist.test.labels})\n",
    "\n",
    "# 2 * 5의 차트 만들기\n",
    "fig = plt.figure()\n",
    "for i in range(10): # 0 ~9 번 인덱스까지\n",
    "    subplot = fig.add_subplot(2, 5, i +1)\n",
    "    subplot.imshow(mnist.test.images[i].reshape(28, 28))\n",
    "    subplot.set_xticks([])\n",
    "    subplot.set_yticks([])\n",
    "    subplot.set_title(\"%d\" % np.argmax(mnist.test.labels[i]))"
   ]
  },
  {
   "cell_type": "code",
   "execution_count": null,
   "metadata": {},
   "outputs": [],
   "source": []
  }
 ],
 "metadata": {
  "kernelspec": {
   "display_name": "Python 3",
   "language": "python",
   "name": "python3"
  },
  "language_info": {
   "codemirror_mode": {
    "name": "ipython",
    "version": 3
   },
   "file_extension": ".py",
   "mimetype": "text/x-python",
   "name": "python",
   "nbconvert_exporter": "python",
   "pygments_lexer": "ipython3",
   "version": "3.7.4"
  }
 },
 "nbformat": 4,
 "nbformat_minor": 2
}
