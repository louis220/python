{
 "cells": [
  {
   "cell_type": "code",
   "execution_count": 10,
   "metadata": {},
   "outputs": [
    {
     "name": "stdout",
     "output_type": "stream",
     "text": [
      "[[0. 0.]\n",
      " [0. 0.]]\n"
     ]
    }
   ],
   "source": [
    "import tensorflow as tf #tf\n",
    "ta = tf.zeros((2,2)) # 2행 2열의 2차월 텐서\n",
    "\n",
    "session = tf.InteractiveSession()\n",
    "print(ta.eval())\n",
    "session.close()"
   ]
  },
  {
   "cell_type": "code",
   "execution_count": 28,
   "metadata": {},
   "outputs": [
    {
     "name": "stdout",
     "output_type": "stream",
     "text": [
      "a * b: 600\n"
     ]
    }
   ],
   "source": [
    "#  Graph를 먼저 만들어서 데이터 흐름을 표현한다\n",
    "\n",
    "#앞서 실행했던 세션의 그래프를 리셋\n",
    "tf.reset_default_graph()\n",
    "\n",
    "# 두 개의 수를 곱하는 데이터의 흐름을 그래프로 만들어 본다\n",
    "a = tf.constant(20, name=\"a\")\n",
    "b = tf.constant(30, name=\"b\")\n",
    "\n",
    "mul_op = tf.multiply(a, b) #a *b\n",
    "\n",
    "# 실행, 그래프를 직접 시각화 해 봅시다\n",
    "with tf.Session() as sess:\n",
    "    # 그래프 시각화를 위해 로그 정보 기록\n",
    "    tf.summary.FileWriter(\"d:/log_dir\", graph=sess.graph)\n",
    "    print(\"a * b:\", sess.run(mul_op)) # 실제 연산은 세션에서"
   ]
  },
  {
   "cell_type": "code",
   "execution_count": 30,
   "metadata": {},
   "outputs": [
    {
     "name": "stdout",
     "output_type": "stream",
     "text": [
      "[[0. 0. 0.]\n",
      " [0. 0. 0.]\n",
      " [0. 0. 0.]]\n",
      "[[0. 0.]\n",
      " [0. 0.]]\n",
      "3.0\n",
      "4.0\n"
     ]
    }
   ],
   "source": [
    "# 변수와 상수\n",
    "# 상수 : tf.constant\n",
    "# 변수 :tf.Variable -> tf.global_cariavles_initializer로 초기화\n",
    "hello = tf.constant(\"Hello, Tensorflow\")\n",
    "w1 = tf.zeros((3, 3)) # 3행 3열의 0으로 채워진 텐서\n",
    "var1 = tf.Variable(tf.zeros((2,2)), name=\"weights\")\n",
    "# 2행 2열의 0으로 채워진 텐서\n",
    "node1 = tf.constant(3.0, dtype=tf.float32) # dtype으로 텐서의 내부 데이터 타입을 설정할 수 있다\n",
    "node2 = tf.constant(4.0) # dtype이 생략 -> tf.float32 타입으로 결정\n",
    "init_op = tf.global_variables_initializer()\n",
    "with tf.Session() as sess:\n",
    "    # 변수가 있을 경우 초기화 수행\n",
    "#     tf.global_variables_initializer() # 변수의 초기화\n",
    "    sess.run(init_op)\n",
    "    print(sess.run(w1))\n",
    "    print(sess.run(var1))\n",
    "    print(node1.eval())\n",
    "    print(node2.eval())\n"
   ]
  },
  {
   "cell_type": "code",
   "execution_count": 19,
   "metadata": {},
   "outputs": [
    {
     "name": "stdout",
     "output_type": "stream",
     "text": [
      "실제 연산의 수행: 5\n"
     ]
    }
   ],
   "source": [
    "# Graph의 생성\n",
    "# Session\n",
    "# -tensor : Data\n",
    "# -tensorflow :data의 flow\n",
    "# 개별적으로 연산 수행하는 것이 아니라 데이터의 흐름을 그래프로 표현한 이후 실제 연산은 Session에서 수행\n",
    "tf.reset_default_graph() # 그래프 초기화\n",
    "a = tf.constant(2, name=\"a\")\n",
    "b = tf.constant(3, name=\"b\")\n",
    "add_op = tf.add(a, b, name=\"Add\")\n",
    "\n",
    "with tf.Session() as sess:\n",
    "    tf.summary.FileWriter(\"d:/log_dir\", graph=sess.graph)\n",
    "    print(\"실제 연산의 수행:\", sess.run(add_op))\n",
    "\n"
   ]
  },
  {
   "cell_type": "code",
   "execution_count": 23,
   "metadata": {},
   "outputs": [
    {
     "name": "stdout",
     "output_type": "stream",
     "text": [
      "scala 변수: 1 <tf.Variable 'scalar1:0' shape=() dtype=int32_ref>\n",
      "scala2 변수: 2 <tf.Variable 'scalar2:0' shape=() dtype=int32_ref>\n",
      "matrix 변수: [[0 1]\n",
      " [2 3]] <tf.Variable 'matrix:0' shape=(2, 2) dtype=int32_ref>\n",
      "분포를 이용한 matrix 변수의 초기화: [[-0.00560619  0.00108367 -0.00332786 ... -0.01388601  0.0088221\n",
      "  -0.01632044]\n",
      " [-0.00339775 -0.00020748 -0.00940168 ...  0.00168891  0.00408382\n",
      "  -0.00449708]\n",
      " [ 0.00277086 -0.00598868  0.01085317 ...  0.00512779 -0.00489895\n",
      "  -0.01775281]\n",
      " ...\n",
      " [ 0.00536847  0.01679149 -0.01460067 ... -0.00378812 -0.01985563\n",
      "   0.00314154]\n",
      " [ 0.00313671 -0.00431098 -0.00052421 ...  0.00191957 -0.01949639\n",
      "  -0.00496555]\n",
      " [-0.01945818 -0.01387987  0.00882051 ...  0.0187697   0.00235199\n",
      "   0.01451592]] <tf.Variable 'big_matrix:0' shape=(784, 10) dtype=float32_ref>\n"
     ]
    }
   ],
   "source": [
    "# 변수\n",
    "# 변수는 저장 및 변경이 가능\n",
    "# 텐서플로의 초기화 메서드로 할당 및 변경 가능\n",
    "tf.reset_default_graph()\n",
    "\n",
    "s1 = tf.get_variable(name=\"scalar1\", initializer=1) \n",
    "s2 = tf.get_variable(name=\"scalar2\", initializer=tf.constant(2))\n",
    "m = tf.get_variable(name=\"matrix\", initializer= tf.constant([\n",
    "    \n",
    "    [0,1],\n",
    "    [2,3]\n",
    "]))\n",
    "M= tf.get_variable(name=\"big_matrix\", shape=(784, 10), initializer =tf.truncated_normal_initializer(mean=0.0, stddev=0.01))\n",
    "# 변수는 항상 초기화 연산을 먼저 수행해야 한다\n",
    "init_op = tf.global_variables_initializer()\n",
    "\n",
    "with tf.Session() as sess:\n",
    "    tf.summary.FileWriter(\"d:/log_dir\", graph=sess.graph)\n",
    "    # 변수 초기화\n",
    "    sess.run(init_op)\n",
    "    print(\"scala 변수:\", sess.run(s1), s1)\n",
    "    print(\"scala2 변수:\", sess.run(s2), s2)\n",
    "    print(\"matrix 변수:\", sess.run(m), m)\n",
    "    print(\"분포를 이용한 matrix 변수의 초기화:\", sess.run(M), M)"
   ]
  },
  {
   "cell_type": "code",
   "execution_count": 27,
   "metadata": {},
   "outputs": [
    {
     "name": "stdout",
     "output_type": "stream",
     "text": [
      "Add with placeholder: [6. 7. 8.]\n"
     ]
    }
   ],
   "source": [
    "#placeholder\n",
    "# 값 혹은 사이즈 미정, 실행되는 시점에서 값이 결정되는 데이터 타입\n",
    "tf.reset_default_graph()\n",
    "a = tf.placeholder(tf.float32, shape=[5]) # 1차원 텐서, 이름 없는 텐서\n",
    "b = tf.placeholder(tf.float32) # shape가 지정되지 않는 이름 없는 텐서\n",
    "x = tf.placeholder(tf.float32, shape=[None, 784], name =\"input\")\n",
    "# 열의 갯수는 784 개, 행의 개수가 미정인 이름이 input인 2차원 텐서\n",
    "Y = tf.placeholder(tf.float32, shape=[None, 10], name= \"label\")\n",
    "# 열의 개수는 10개 행의 개수 미정인 이름이 label인 2차원 텐서\n",
    "\n",
    "a = tf.constant([5, 5, 5], tf.float32, name=\"A\") #3열의 1차원 상수 텐서\n",
    "b = tf.placeholder(tf.float32, shape=[3], name=\"8\") # 3열의 1차원 placeholder\n",
    "c = tf.add(a, b, name=\"Add\")\n",
    "with tf.Session() as sess:\n",
    "    # placeholder에 실행 시점에서 데이터를 전달하고자 한다면 \n",
    "    # 사전을 만들어 전달할 수 있다\n",
    "    d = {b: [1, 2, 3]}\n",
    "    # placeholder에 사전을 전달해서 실행\n",
    "    print(\"Add with placeholder:\", sess.run(c, feed_dict=d))\n",
    "    # feed_dict 인자로 사전을 전달"
   ]
  }
 ],
 "metadata": {
  "kernelspec": {
   "display_name": "Python 3",
   "language": "python",
   "name": "python3"
  },
  "language_info": {
   "codemirror_mode": {
    "name": "ipython",
    "version": 3
   },
   "file_extension": ".py",
   "mimetype": "text/x-python",
   "name": "python",
   "nbconvert_exporter": "python",
   "pygments_lexer": "ipython3",
   "version": "3.7.4"
  }
 },
 "nbformat": 4,
 "nbformat_minor": 2
}
