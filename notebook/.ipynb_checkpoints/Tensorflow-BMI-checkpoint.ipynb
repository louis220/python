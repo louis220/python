{
 "cells": [
  {
   "cell_type": "code",
   "execution_count": 1,
   "metadata": {},
   "outputs": [],
   "source": [
    "# BMI 데이터를 학습을 통해 예측하는 머신\n",
    "import pandas as pd\n",
    "import numpy as np"
   ]
  },
  {
   "cell_type": "code",
   "execution_count": 2,
   "metadata": {},
   "outputs": [
    {
     "name": "stdout",
     "output_type": "stream",
     "text": [
      "shape of csv: (20000, 3)\n"
     ]
    }
   ],
   "source": [
    "# 데이터를 불러와서 살펴봅시다\n",
    "csv = pd.read_csv(\"data/bmi.csv\")\n",
    "print(\"shape of csv:\", csv.shape)"
   ]
  },
  {
   "cell_type": "code",
   "execution_count": 3,
   "metadata": {},
   "outputs": [
    {
     "data": {
      "text/html": [
       "<div>\n",
       "<style scoped>\n",
       "    .dataframe tbody tr th:only-of-type {\n",
       "        vertical-align: middle;\n",
       "    }\n",
       "\n",
       "    .dataframe tbody tr th {\n",
       "        vertical-align: top;\n",
       "    }\n",
       "\n",
       "    .dataframe thead th {\n",
       "        text-align: right;\n",
       "    }\n",
       "</style>\n",
       "<table border=\"1\" class=\"dataframe\">\n",
       "  <thead>\n",
       "    <tr style=\"text-align: right;\">\n",
       "      <th></th>\n",
       "      <th>height</th>\n",
       "      <th>weight</th>\n",
       "    </tr>\n",
       "  </thead>\n",
       "  <tbody>\n",
       "    <tr>\n",
       "      <td>count</td>\n",
       "      <td>20000.000000</td>\n",
       "      <td>20000.000000</td>\n",
       "    </tr>\n",
       "    <tr>\n",
       "      <td>mean</td>\n",
       "      <td>160.092050</td>\n",
       "      <td>57.377650</td>\n",
       "    </tr>\n",
       "    <tr>\n",
       "      <td>std</td>\n",
       "      <td>23.385464</td>\n",
       "      <td>13.260121</td>\n",
       "    </tr>\n",
       "    <tr>\n",
       "      <td>min</td>\n",
       "      <td>120.000000</td>\n",
       "      <td>35.000000</td>\n",
       "    </tr>\n",
       "    <tr>\n",
       "      <td>25%</td>\n",
       "      <td>140.000000</td>\n",
       "      <td>46.000000</td>\n",
       "    </tr>\n",
       "    <tr>\n",
       "      <td>50%</td>\n",
       "      <td>160.000000</td>\n",
       "      <td>57.000000</td>\n",
       "    </tr>\n",
       "    <tr>\n",
       "      <td>75%</td>\n",
       "      <td>180.000000</td>\n",
       "      <td>69.000000</td>\n",
       "    </tr>\n",
       "    <tr>\n",
       "      <td>max</td>\n",
       "      <td>200.000000</td>\n",
       "      <td>80.000000</td>\n",
       "    </tr>\n",
       "  </tbody>\n",
       "</table>\n",
       "</div>"
      ],
      "text/plain": [
       "             height        weight\n",
       "count  20000.000000  20000.000000\n",
       "mean     160.092050     57.377650\n",
       "std       23.385464     13.260121\n",
       "min      120.000000     35.000000\n",
       "25%      140.000000     46.000000\n",
       "50%      160.000000     57.000000\n",
       "75%      180.000000     69.000000\n",
       "max      200.000000     80.000000"
      ]
     },
     "execution_count": 3,
     "metadata": {},
     "output_type": "execute_result"
    }
   ],
   "source": [
    "# weight, height의 통계량의 확인\n",
    "csv.describe()"
   ]
  },
  {
   "cell_type": "code",
   "execution_count": 4,
   "metadata": {},
   "outputs": [
    {
     "data": {
      "image/png": "[encoded data removed]",
      "text/plain": [
       "<Figure size 432x288 with 1 Axes>"
      ]
     },
     "metadata": {
      "needs_background": "light"
     },
     "output_type": "display_data"
    }
   ],
   "source": [
    "%matplotlib inline\n",
    "# maplotlib로 weight와 height의\n",
    "# 분포 확인(Boxplot)\n",
    "import matplotlib.pyplot as plt\n",
    "plt.boxplot([csv['height'],csv['weight']],\n",
    "           labels=['height', 'weight'])\n",
    "plt.show()\n",
    "# 입력 데이터가 크면 포화상태가 발생\n",
    "# 식별력을 잃는다\n",
    "# 실제 입력 데이터는 0.0 ~ 1.0 사이의 범위로 정규화가 필요"
   ]
  },
  {
   "cell_type": "code",
   "execution_count": 5,
   "metadata": {},
   "outputs": [
    {
     "data": {
      "image/png": "[encoded data removed]",
      "text/plain": [
       "<Figure size 432x288 with 1 Axes>"
      ]
     },
     "metadata": {
      "needs_background": "light"
     },
     "output_type": "display_data"
    }
   ],
   "source": [
    "# 원본 보존을 위해 \n",
    "scsv = csv.copy() # 복제\n",
    "# 정규화 수행\n",
    "scsv['height'] = scsv['height'] / 200\n",
    "scsv['weight'] = scsv['weight'] / 100\n",
    "# 분포 재확인\n",
    "plt.boxplot([scsv['height'],\n",
    "            scsv['weight']],\n",
    "           labels = ['height','weight'])\n",
    "plt.show()"
   ]
  },
  {
   "cell_type": "code",
   "execution_count": 6,
   "metadata": {},
   "outputs": [
    {
     "data": {
      "text/html": [
       "<div>\n",
       "<style scoped>\n",
       "    .dataframe tbody tr th:only-of-type {\n",
       "        vertical-align: middle;\n",
       "    }\n",
       "\n",
       "    .dataframe tbody tr th {\n",
       "        vertical-align: top;\n",
       "    }\n",
       "\n",
       "    .dataframe thead th {\n",
       "        text-align: right;\n",
       "    }\n",
       "</style>\n",
       "<table border=\"1\" class=\"dataframe\">\n",
       "  <thead>\n",
       "    <tr style=\"text-align: right;\">\n",
       "      <th></th>\n",
       "      <th>label</th>\n",
       "      <th>height</th>\n",
       "      <th>weight</th>\n",
       "      <th>label_pat</th>\n",
       "    </tr>\n",
       "  </thead>\n",
       "  <tbody>\n",
       "    <tr>\n",
       "      <td>0</td>\n",
       "      <td>normal</td>\n",
       "      <td>0.940</td>\n",
       "      <td>0.71</td>\n",
       "      <td>[0, 1, 0]</td>\n",
       "    </tr>\n",
       "    <tr>\n",
       "      <td>1</td>\n",
       "      <td>fat</td>\n",
       "      <td>0.805</td>\n",
       "      <td>0.68</td>\n",
       "      <td>[0, 0, 1]</td>\n",
       "    </tr>\n",
       "    <tr>\n",
       "      <td>2</td>\n",
       "      <td>thin</td>\n",
       "      <td>0.890</td>\n",
       "      <td>0.52</td>\n",
       "      <td>[1, 0, 0]</td>\n",
       "    </tr>\n",
       "    <tr>\n",
       "      <td>3</td>\n",
       "      <td>fat</td>\n",
       "      <td>0.680</td>\n",
       "      <td>0.63</td>\n",
       "      <td>[0, 0, 1]</td>\n",
       "    </tr>\n",
       "    <tr>\n",
       "      <td>4</td>\n",
       "      <td>normal</td>\n",
       "      <td>0.725</td>\n",
       "      <td>0.52</td>\n",
       "      <td>[0, 1, 0]</td>\n",
       "    </tr>\n",
       "  </tbody>\n",
       "</table>\n",
       "</div>"
      ],
      "text/plain": [
       "    label  height  weight  label_pat\n",
       "0  normal   0.940    0.71  [0, 1, 0]\n",
       "1     fat   0.805    0.68  [0, 0, 1]\n",
       "2    thin   0.890    0.52  [1, 0, 0]\n",
       "3     fat   0.680    0.63  [0, 0, 1]\n",
       "4  normal   0.725    0.52  [0, 1, 0]"
      ]
     },
     "execution_count": 6,
     "metadata": {},
     "output_type": "execute_result"
    }
   ],
   "source": [
    "# Label 데이터 마련\n",
    "# str -> One HotEncoding방식으로 컨버팅\n",
    "# thin = (1, 0, 0),  normal = (0, 1, 0) fat (0, 0, 1)\n",
    "bclass = {\"thin\": (1, 0, 0), \"normal\":(0, 1, 0), \"fat\": (0, 0, 1)}\n",
    "# 파생 변수로 One hot Encoding Lable 컬럼 생성\n",
    "scsv['label_pat'] = scsv['label'].apply(lambda x: np.array(bclass[x]))\n",
    "# .apply : 판다스(넘파이)의 기존 함수 이외의 사용자 정의 함수를 BroadCasting하는 메서드\n",
    "\n",
    "# 데이터 확인 :One hot 인코딩이 잘 적용되었는가?\n",
    "scsv.head()"
   ]
  },
  {
   "cell_type": "code",
   "execution_count": 7,
   "metadata": {},
   "outputs": [
    {
     "name": "stdout",
     "output_type": "stream",
     "text": [
      "       weight  height\n",
      "15000    0.47   0.670\n",
      "15001    0.42   0.830\n",
      "15002    0.67   0.775\n",
      "15003    0.68   0.800\n",
      "15004    0.77   0.940\n",
      "[array([0, 0, 1]), array([1, 0, 0]), array([0, 0, 1]), array([0, 0, 1]), array([0, 1, 0])]\n"
     ]
    }
   ],
   "source": [
    "# 테스트 데이터 분리\n",
    "test_csv = scsv[15000:] # 5000개의 테스트 데이터 분리\n",
    "test_pat = test_csv[['weight', 'height']]\n",
    "# 테스트 데이터 분리\n",
    "test_ans = list(test_csv['label_pat'])\n",
    "print(test_pat.head())\n",
    "print(test_ans[:5])"
   ]
  },
  {
   "cell_type": "code",
   "execution_count": 8,
   "metadata": {},
   "outputs": [],
   "source": [
    "# 텐서플로로 학습 모델 구성\n",
    "import tensorflow as tf\n",
    "tf.reset_default_graph()\n",
    "\n",
    "# 신경망의 구성\n",
    "\n",
    "# 재현성 확보를 위한 난수 seed의 정의\n",
    "# np.random.seed(seed=42)\n",
    "tf.set_random_seed(seed=42)\n",
    "\n",
    "x = tf.placeholder(tf.float32, [None, 2], name = \"x\") # ?행, 2열\n",
    "# height, weight -> 2개의 feature\n",
    "y_ = tf.placeholder(tf.float32, [None, 3], name = \"y_\") # BMI 라벨의 개수\n",
    "# 변수 선언\n",
    "W = tf.Variable(tf.random_normal([2, 3]), name=\"W\") # 가중치\n",
    "b = tf.Variable(tf.random_normal([3]), name=\"b\") # 절편\n",
    "\n",
    "# 출력의 Softmax 회귀\n",
    "y = tf.nn.softmax(tf.matmul(x, W) + b)\n",
    "# fn(x) = Wx + b -> sofrmax 활성화 함수\n"
   ]
  },
  {
   "cell_type": "code",
   "execution_count": 9,
   "metadata": {},
   "outputs": [],
   "source": [
    "# 모델 훈련\n",
    "# 오차 함수 (Cross Entropy 함수)\n",
    "cross_entropy = -tf.reduce_sum(y_ * tf.log(y))\n",
    "\n",
    "# 최적화 : 경사하강법\n",
    "optimizer = tf.train.GradientDescentOptimizer(learning_rate = 0.01)\n",
    "\n",
    "train = optimizer.minimize(cross_entropy)\n",
    "# 오차 함수를 활용한 가중치와 편차의 보정\n",
    "\n",
    "# 정답률 구하기 \n",
    "predict = tf.equal(tf.argmax(y, 1), tf.argmax(y_, 1))\n",
    "accuracy = tf.reduce_mean(tf.cast(predict, tf.float32))\n"
   ]
  },
  {
   "cell_type": "code",
   "execution_count": 10,
   "metadata": {},
   "outputs": [
    {
     "name": "stdout",
     "output_type": "stream",
     "text": [
      "초기 가중치: [[ 1.080044   -2.473193   -1.5754302 ]\n",
      " [-0.40005195  0.4460453   0.21750373]]\n",
      "초기 절편 [ 0.07774825 -1.004884   -0.12903629]\n",
      "Step:0, CrossEntropy:6707.3525390625, 정확도:0.061000000685453415\n",
      "Step:500, CrossEntropy:2780.704833984375, 정확도:0.8659999966621399\n",
      "Step:1000, CrossEntropy:2248.44189453125, 정확도:0.8808000087738037\n",
      "Step:1500, CrossEntropy:1969.13037109375, 정확도:0.9151999950408936\n",
      "Step:2000, CrossEntropy:1799.212890625, 정확도:0.9175999760627747\n",
      "Step:2500, CrossEntropy:1655.47998046875, 정확도:0.944599986076355\n",
      "Step:3000, CrossEntropy:1551.24951171875, 정확도:0.9620000123977661\n",
      "('최종 정답률:', 0.9656)\n",
      "최종 가중치:\n",
      " [[-18.396173    -0.08160324  15.509212  ]\n",
      " [ 21.663946     1.383727   -22.784184  ]]\n",
      "최종 절편:\n",
      " [-8.361038  -1.0091292  8.314025 ]\n"
     ]
    }
   ],
   "source": [
    "# 실제 실행은 Session에서\n",
    "with tf.Session() as sess:\n",
    "    tf.summary.FileWriter(\"d:/log_dir/bmi\", graph= sess.graph)\n",
    "    # 변수의 초기화\n",
    "    sess.run(tf.global_variables_initializer())\n",
    "    print(\"초기 가중치:\", sess.run(W))\n",
    "    print(\"초기 절편\", sess.run(b))\n",
    "    \n",
    "    # 학습의 수행\n",
    "    for step in range(3500): # 3500번 학습\n",
    "        # 학습 데이터 0 ~ 14999까지 (힌번에 진행하면 힘드니까 쪼개서 학습진행)\n",
    "        i = (step * 100) % 14000 # 100개씩 학습\n",
    "        # 학습 대상이 되는 row를 추출\n",
    "        rows = scsv[i + 1: i + 1 + 100]\n",
    "        \n",
    "        # 학습 데이터와 학습 라벨 분리\n",
    "        x_pat = rows[['weight', 'height']]\n",
    "        y_ans = list(rows['label_pat'])\n",
    "        # 텐서플로 Placeholder에 넘겨줄 데이터를 사전으로 마련\n",
    "        fd = {x: x_pat, y_: y_ans}\n",
    "        \n",
    "        sess.run(train,feed_dict = fd)\n",
    "        \n",
    "        if step % 500 == 0: # 중간 결과 확인\n",
    "            # 학습된 모델로 test 데이터를 평가\n",
    "            cre = sess.run(cross_entropy, feed_dict={x:test_pat, y_: test_ans})\n",
    "            acc = sess.run(accuracy,{x: test_pat, y_:test_ans})\n",
    "            print(\"Step:{}, CrossEntropy:{}, 정확도:{}\".format(step, cre, acc))\n",
    "        # 최종 정답률 구하기\n",
    "    acc = sess.run(accuracy, feed_dict={x:test_pat, y_: test_ans})\n",
    "    print((\"최종 정답률:\", acc))\n",
    "        \n",
    "    # 최종 합습된 가중치와 정편\n",
    "    print(\"최종 가중치:\\n\", sess.run(W))\n",
    "    print(\"최종 절편:\\n\", sess.run(b))"
   ]
  }
 ],
 "metadata": {
  "kernelspec": {
   "display_name": "Python 3",
   "language": "python",
   "name": "python3"
  },
  "language_info": {
   "codemirror_mode": {
    "name": "ipython",
    "version": 3
   },
   "file_extension": ".py",
   "mimetype": "text/x-python",
   "name": "python",
   "nbconvert_exporter": "python",
   "pygments_lexer": "ipython3",
   "version": "3.7.4"
  }
 },
 "nbformat": 4,
 "nbformat_minor": 2
}
