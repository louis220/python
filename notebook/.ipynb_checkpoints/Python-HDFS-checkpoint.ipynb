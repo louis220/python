{
 "cells": [
  {
   "cell_type": "code",
   "execution_count": 2,
   "metadata": {},
   "outputs": [
    {
     "data": {
      "text/plain": [
       "<InsecureClient(url='http://192.168.56.101:50070')>"
      ]
     },
     "execution_count": 2,
     "metadata": {},
     "output_type": "execute_result"
    }
   ],
   "source": [
    "# hdfs client 로드\n",
    "from hdfs import InsecureClient\n",
    "# client 연결\n",
    "client = InsecureClient(\"http://192.168.56.101:50070\", user=\"bituser\")\n",
    "client"
   ]
  },
  {
   "cell_type": "code",
   "execution_count": 5,
   "metadata": {},
   "outputs": [
    {
     "ename": "SyntaxError",
     "evalue": "invalid syntax (<ipython-input-5-0bee933a33c2>, line 1)",
     "output_type": "error",
     "traceback": [
      "\u001b[1;36m  File \u001b[1;32m\"<ipython-input-5-0bee933a33c2>\"\u001b[1;36m, line \u001b[1;32m1\u001b[0m\n\u001b[1;33m    def list_test(path)\u001b[0m\n\u001b[1;37m                       ^\u001b[0m\n\u001b[1;31mSyntaxError\u001b[0m\u001b[1;31m:\u001b[0m invalid syntax\n"
     ]
    }
   ],
   "source": [
    "def list_test(path)\n",
    "    # 파일 목록 보기 :hdfs dfs -ls\n",
    "    files = client.list(path)\n",
    "    \n",
    "    if len(files) == 0:\n",
    "        print(\"File Not Found\")\n",
    "    else: # 파일이 있다\n",
    "        for file in files:\n",
    "            print(\"File:\", file)\n",
    "            \n",
    "print(\"/디렉터리 내의 파일\")\n",
    "list_test(\"/\")\n",
    "print(\"/hadoop 디렉터리 내의 파일\")\n",
    "list_test(\"/hadoop\")"
   ]
  }
 ],
 "metadata": {
  "kernelspec": {
   "display_name": "Python 3",
   "language": "python",
   "name": "python3"
  },
  "language_info": {
   "codemirror_mode": {
    "name": "ipython",
    "version": 3
   },
   "file_extension": ".py",
   "mimetype": "text/x-python",
   "name": "python",
   "nbconvert_exporter": "python",
   "pygments_lexer": "ipython3",
   "version": "3.7.4"
  }
 },
 "nbformat": 4,
 "nbformat_minor": 2
}
